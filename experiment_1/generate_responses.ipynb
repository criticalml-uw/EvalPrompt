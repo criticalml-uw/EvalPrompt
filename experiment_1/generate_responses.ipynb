{
 "cells": [
  {
   "cell_type": "markdown",
   "metadata": {},
   "source": [
    "## Import Packages"
   ]
  },
  {
   "cell_type": "code",
   "execution_count": null,
   "metadata": {},
   "outputs": [],
   "source": [
    "import os\n",
    "import sys\n",
    "import time\n",
    "\n",
    "from dotenv import load_dotenv\n",
    "from openai import OpenAI\n",
    "import pandas as pd\n",
    "\n",
    "sys.path.append(os.path.abspath(os.path.join(os.getcwd(), \"..\")))\n",
    "import prompts\n",
    "\n",
    "# These next two lines automatically reload the imports if they are changed.\n",
    "%load_ext autoreload\n",
    "%autoreload 2"
   ]
  },
  {
   "cell_type": "markdown",
   "metadata": {},
   "source": [
    "## Setup OpenAI Access"
   ]
  },
  {
   "cell_type": "code",
   "execution_count": 8,
   "metadata": {},
   "outputs": [],
   "source": [
    "load_dotenv()\n",
    "\n",
    "client = OpenAI(api_key=os.environ.get(\"OPENAI_API_KEY\"))"
   ]
  },
  {
   "cell_type": "markdown",
   "metadata": {},
   "source": [
    "## Prepare Input Data"
   ]
  },
  {
   "cell_type": "code",
   "execution_count": null,
   "metadata": {},
   "outputs": [],
   "source": [
    "# Input data.\n",
    "input_file_name = \"questions.xlsx\"\n",
    "data = pd.read_excel(input_file_name)\n",
    "data = data.fillna(\"\")\n",
    "\n",
    "# Input columns.\n",
    "question_num_col = \"usmle_1_q_num\"\n",
    "question_col = \"usmle_1_q\"\n",
    "answer_col = \"usmle_1_a\"\n",
    "\n",
    "# Output.\n",
    "output_file_name = \"output.xlsx\""
   ]
  },
  {
   "cell_type": "markdown",
   "metadata": {},
   "source": [
    "## Prompt ChatGPT"
   ]
  },
  {
   "cell_type": "code",
   "execution_count": null,
   "metadata": {},
   "outputs": [],
   "source": [
    "for idx, row in enumerate(data.itertuples()):\n",
    "    prompt = getattr(row, question_col)\n",
    "    prompt = prompts.make_open_ended(prompt)\n",
    "\n",
    "    gpt_ans = prompts.chatgpt(client, \"gpt-4\", prompt)\n",
    "    data.at[idx, answer_col] = gpt_ans\n",
    "\n",
    "    question_num = getattr(row, question_num_col)\n",
    "    print(f\"Finished Experiment 1 question {question_num}\")\n",
    "\n",
    "    # Pause for a few seconds to not spam OpenAI.\n",
    "    # Spamming OpenAI can lead to access restrictions.\n",
    "    time.sleep(4)\n",
    "\n",
    "data.to_excel(output_file_name)"
   ]
  }
 ],
 "metadata": {
  "kernelspec": {
   "display_name": ".venv",
   "language": "python",
   "name": "python3"
  },
  "language_info": {
   "codemirror_mode": {
    "name": "ipython",
    "version": 3
   },
   "file_extension": ".py",
   "mimetype": "text/x-python",
   "name": "python",
   "nbconvert_exporter": "python",
   "pygments_lexer": "ipython3",
   "version": "3.11.0"
  }
 },
 "nbformat": 4,
 "nbformat_minor": 2
}
